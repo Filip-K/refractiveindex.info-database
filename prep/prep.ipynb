{
    "cells": [
        {
            "cell_type": "code",
            "execution_count": null,
            "metadata": {},
            "outputs": [],
            "source": [
                "import numpy as np\n",
                "import pandas as pd\n",
                "import matplotlib.pyplot as plt"
            ]
        },
        {
            "cell_type": "code",
            "execution_count": null,
            "metadata": {},
            "outputs": [],
            "source": [
                "def ev_to_um(E):\n",
                "    return 4.135667662e-15 * 2.99792458e8 / E * 1e6"
            ]
        },
        {
            "cell_type": "markdown",
            "metadata": {},
            "source": [
                "# Yttrium"
            ]
        },
        {
            "cell_type": "markdown",
            "metadata": {},
            "source": [
                "## Chee"
            ]
        },
        {
            "cell_type": "code",
            "execution_count": null,
            "metadata": {},
            "outputs": [],
            "source": [
                "n = pd.read_csv(\"yttrium/chee-n.csv\", names =(\"energy\", \"n\"))\n",
                "k = pd.read_csv(\"yttrium/chee-k.csv\", names =(\"energy\", \"k\"))"
            ]
        },
        {
            "cell_type": "code",
            "execution_count": null,
            "metadata": {},
            "outputs": [],
            "source": [
                "n[\"wavelength\"] = ev_to_um(n.energy)\n",
                "k[\"wavelength\"] = ev_to_um(k.energy)"
            ]
        },
        {
            "cell_type": "code",
            "execution_count": null,
            "metadata": {},
            "outputs": [],
            "source": [
                "n.sort_values(by=\"wavelength\").round(decimals=3).to_csv(\"yttrium/chee-n-formatted.csv\",sep=\" \",header=False,index=False,columns=(\"wavelength\",\"n\"))\n",
                "k.sort_values(by=\"wavelength\").round(decimals=3).to_csv(\"yttrium/chee-k-formatted.csv\",sep=\" \",header=False,index=False,columns=(\"wavelength\",\"k\"))"
            ]
        },
        {
            "cell_type": "markdown",
            "metadata": {},
            "source": [
                "## Weaver"
            ]
        },
        {
            "cell_type": "code",
            "execution_count": null,
            "metadata": {},
            "outputs": [],
            "source": [
                "def eps_to_n(eps):\n",
                "    return np.sqrt((np.absolute(eps)+np.real(eps))/2)\n",
                "\n",
                "def eps_to_k(eps):\n",
                "    return np.sqrt((np.absolute(eps)-np.real(eps))/2)"
            ]
        },
        {
            "cell_type": "code",
            "execution_count": null,
            "metadata": {},
            "outputs": [],
            "source": [
                "eps1 = pd.read_csv(\"yttrium/weaver-eps1.csv\", names =(\"energy\", \"eps1\"))\n",
                "eps2 = pd.read_csv(\"yttrium/weaver-eps2.csv\", names =(\"energy\", \"eps2\"))"
            ]
        },
        {
            "cell_type": "code",
            "execution_count": null,
            "metadata": {},
            "outputs": [],
            "source": [
                "eps = pd.concat((eps1,eps2)).sort_values(by=\"energy\").set_index(\"energy\")\n",
                "eps"
            ]
        },
        {
            "cell_type": "code",
            "execution_count": null,
            "metadata": {},
            "outputs": [],
            "source": [
                "eps = eps.interpolate(\"index\").dropna()\n",
                "eps"
            ]
        },
        {
            "cell_type": "code",
            "execution_count": null,
            "metadata": {},
            "outputs": [],
            "source": [
                "eps.plot()"
            ]
        },
        {
            "cell_type": "code",
            "execution_count": null,
            "metadata": {},
            "outputs": [],
            "source": [
                "df = pd.DataFrame({\n",
                "    \"wavelength\": ev_to_um(eps.index),\n",
                "    \"n\": eps_to_n(eps.eps1 + 1j*eps.eps2),\n",
                "    \"k\": eps_to_k(eps.eps1 + 1j*eps.eps2)\n",
                "}).sort_values(by=\"wavelength\")\n",
                "df"
            ]
        },
        {
            "cell_type": "code",
            "execution_count": null,
            "metadata": {},
            "outputs": [],
            "source": [
                "df.round(decimals=3).to_csv(\"yttrium/weaver-formatted.csv\",sep=\" \",header=False,index=False)"
            ]
        },
        {
            "cell_type": "markdown",
            "metadata": {},
            "source": [
                "# Hafnium"
            ]
        },
        {
            "cell_type": "code",
            "execution_count": null,
            "metadata": {},
            "outputs": [],
            "source": [
                "eps1 = pd.read_csv(\"hafnium/lynch-eps1.csv\", names =(\"energy\", \"eps1\"))\n",
                "eps2 = pd.read_csv(\"hafnium/lynch-eps2.csv\", names =(\"energy\", \"eps2\"))\n",
                "\n",
                "eps = pd.concat((eps1,eps2)).sort_values(by=\"energy\").set_index(\"energy\")\n",
                "eps"
            ]
        },
        {
            "cell_type": "code",
            "execution_count": null,
            "metadata": {},
            "outputs": [],
            "source": [
                "eps = eps.interpolate(\"index\").dropna()\n",
                "eps"
            ]
        },
        {
            "cell_type": "code",
            "execution_count": null,
            "metadata": {},
            "outputs": [],
            "source": [
                "eps.plot()"
            ]
        },
        {
            "cell_type": "code",
            "execution_count": null,
            "metadata": {},
            "outputs": [],
            "source": [
                "pd.DataFrame({\n",
                "    \"wavelength\": ev_to_um(eps.index),\n",
                "    \"n\": eps_to_n(eps.eps1 + 1j*eps.eps2),\n",
                "    \"k\": eps_to_k(eps.eps1 + 1j*eps.eps2)\n",
                "}).sort_values(by=\"wavelength\").round(decimals=3).to_csv(\"hafnium/lynch-formatted.csv\",sep=\" \",header=False,index=False)"
            ]
        },
        {
            "cell_type": "code",
            "execution_count": null,
            "metadata": {},
            "outputs": [],
            "source": []
        }
    ],
    "metadata": {
        "interpreter": {
            "hash": "1348bf9a7ec4e300e83cc9d21011b131c05cac61357c707d42e109df0262fe05"
        },
        "kernelspec": {
            "display_name": "Python 3.9.6 64-bit",
            "name": "python3"
        },
        "language_info": {
            "codemirror_mode": {
                "name": "ipython",
                "version": 3
            },
            "file_extension": ".py",
            "mimetype": "text/x-python",
            "name": "python",
            "nbconvert_exporter": "python",
            "pygments_lexer": "ipython3",
            "version": "3.9.7"
        },
        "orig_nbformat": 4
    },
    "nbformat": 4,
    "nbformat_minor": 2
}
