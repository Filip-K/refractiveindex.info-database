{
    "cells": [
        {
            "cell_type": "code",
            "execution_count": null,
            "source": [
                "import numpy as np\n",
                "import pandas as pd\n",
                "import matplotlib.pyplot as plt"
            ],
            "outputs": [],
            "metadata": {}
        },
        {
            "cell_type": "code",
            "execution_count": null,
            "source": [
                "def ev_to_um(E):\n",
                "    return 4.135667662e-15 * 2.99792458e8 / E * 1e6"
            ],
            "outputs": [],
            "metadata": {}
        },
        {
            "cell_type": "markdown",
            "source": [
                "## Chee"
            ],
            "metadata": {}
        },
        {
            "cell_type": "code",
            "execution_count": null,
            "source": [
                "n = pd.read_csv(\"yttrium/chee-n.csv\", names =(\"energy\", \"n\"))\n",
                "k = pd.read_csv(\"yttrium/chee-k.csv\", names =(\"energy\", \"k\"))"
            ],
            "outputs": [],
            "metadata": {}
        },
        {
            "cell_type": "code",
            "execution_count": null,
            "source": [
                "n[\"wavelength\"] = ev_to_um(n.energy)\n",
                "k[\"wavelength\"] = ev_to_um(k.energy)"
            ],
            "outputs": [],
            "metadata": {}
        },
        {
            "cell_type": "code",
            "execution_count": null,
            "source": [
                "n.sort_values(by=\"wavelength\").round(decimals=3).to_csv(\"yttrium/chee-n-formatted.csv\",sep=\" \",header=False,index=False,columns=(\"wavelength\",\"n\"))\n",
                "k.sort_values(by=\"wavelength\").round(decimals=3).to_csv(\"yttrium/chee-k-formatted.csv\",sep=\" \",header=False,index=False,columns=(\"wavelength\",\"k\"))"
            ],
            "outputs": [],
            "metadata": {}
        },
        {
            "cell_type": "markdown",
            "source": [
                "## Weaver"
            ],
            "metadata": {}
        },
        {
            "cell_type": "code",
            "execution_count": null,
            "source": [
                "def eps_to_n(eps):\n",
                "    return np.sqrt((np.absolute(eps)+np.real(eps))/2)\n",
                "\n",
                "def eps_to_k(eps):\n",
                "    return np.sqrt((np.absolute(eps)-np.real(eps))/2)"
            ],
            "outputs": [],
            "metadata": {}
        },
        {
            "cell_type": "code",
            "execution_count": null,
            "source": [
                "eps1 = pd.read_csv(\"yttrium/weaver-eps1.csv\", names =(\"energy\", \"eps1\"))\n",
                "eps2 = pd.read_csv(\"yttrium/weaver-eps2.csv\", names =(\"energy\", \"eps2\"))"
            ],
            "outputs": [],
            "metadata": {}
        },
        {
            "cell_type": "code",
            "execution_count": null,
            "source": [
                "eps = pd.concat((eps1,eps2)).sort_values(by=\"energy\").set_index(\"energy\")\n",
                "eps"
            ],
            "outputs": [],
            "metadata": {}
        },
        {
            "cell_type": "code",
            "execution_count": null,
            "source": [
                "eps = eps.interpolate(\"index\").dropna()\n",
                "eps"
            ],
            "outputs": [],
            "metadata": {}
        },
        {
            "cell_type": "code",
            "execution_count": null,
            "source": [
                "eps.plot()"
            ],
            "outputs": [],
            "metadata": {}
        },
        {
            "cell_type": "code",
            "execution_count": null,
            "source": [
                "df = pd.DataFrame({\n",
                "    \"wavelength\": ev_to_um(eps.index),\n",
                "    \"n\": eps_to_n(eps.eps1 + 1j*eps.eps1),\n",
                "    \"k\": eps_to_k(eps.eps1 + 1j*eps.eps1)\n",
                "}).sort_values(by=\"wavelength\")\n",
                "df"
            ],
            "outputs": [],
            "metadata": {}
        },
        {
            "cell_type": "code",
            "execution_count": null,
            "source": [
                "df.round(decimals=3).to_csv(\"yttrium/weaver-formatted.csv\",sep=\" \",header=False,index=False)"
            ],
            "outputs": [],
            "metadata": {}
        },
        {
            "cell_type": "code",
            "execution_count": null,
            "source": [],
            "outputs": [],
            "metadata": {}
        }
    ],
    "metadata": {
        "orig_nbformat": 4,
        "language_info": {
            "name": "python",
            "version": "3.9.7",
            "mimetype": "text/x-python",
            "codemirror_mode": {
                "name": "ipython",
                "version": 3
            },
            "pygments_lexer": "ipython3",
            "nbconvert_exporter": "python",
            "file_extension": ".py"
        },
        "kernelspec": {
            "name": "python3",
            "display_name": "Python 3.9.6 64-bit"
        },
        "interpreter": {
            "hash": "1348bf9a7ec4e300e83cc9d21011b131c05cac61357c707d42e109df0262fe05"
        }
    },
    "nbformat": 4,
    "nbformat_minor": 2
}